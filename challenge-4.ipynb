{
 "cells": [
  {
   "cell_type": "markdown",
   "source": [
    "## IBM Quantum Challenge Fall 2021\n",
    "# Challenge 4: Battery revenue optimization\n",
    "\n",
    "<div class=\"alert alert-block alert-info\">\n",
    "    \n",
    "We recommend that you switch to **light** workspace theme under the Account menu in the upper right corner for optimal experience.\n",
    "</div>"
   ],
   "metadata": {}
  },
  {
   "cell_type": "markdown",
   "source": [
    "# Introduction to QAOA\n",
    "\n",
    "When it comes to optimization problems, a well-known algorithm for finding approximate solutions to combinatorial-optimization problems is **QAOA (Quantum approximate optimization algorithm)**. You may have already used it once in the finance exercise of Challenge-1, but still don't know what it is. In this challlenge we will further learn about QAOA----how does it work? Why we need it?\n",
    "\n",
    "First off, what is QAOA?  Simply put, QAOA is a classical-quantum  hybrid algorithm that combines a parametrized quantum circuit known as ansatz, and a classical part to optimize those circuits proposed by Farhi, Goldstone, and Gutmann (2014)[**[1]**](https://arxiv.org/abs/1411.4028). \n",
    "\n",
    "It is a variational algorithm that uses a unitary $U(\\boldsymbol{\\beta}, \\boldsymbol{\\gamma})$ characterized by the parameters $(\\boldsymbol{\\beta}, \\boldsymbol{\\gamma})$ to prepare a quantum state $|\\psi(\\boldsymbol{\\beta}, \\boldsymbol{\\gamma})\\rangle$. The goal of the algorithm is to find optimal parameters $(\\boldsymbol{\\beta}_{opt}, \\boldsymbol{\\gamma}_{opt})$ such that the quantum state $|\\psi(\\boldsymbol{\\beta}_{opt}, \\boldsymbol{\\gamma}_{opt})\\rangle$ encodes the solution to the problem. \n",
    "\n",
    "The unitary $U(\\boldsymbol{\\beta}, \\boldsymbol{\\gamma})$ has a specific form and is composed of two unitaries $U(\\boldsymbol{\\beta}) = e^{-i \\boldsymbol{\\beta} H_B}$ and $U(\\boldsymbol{\\gamma}) = e^{-i \\boldsymbol{\\gamma} H_P}$ where $H_{B}$ is the mixing Hamiltonian and $H_{P}$ is the problem Hamiltonian. Such a choice of unitary drives its inspiration from a related scheme called quantum annealing.\n",
    "\n",
    "The state is prepared by applying these unitaries as alternating blocks of the two unitaries applied $p$ times such that \n",
    "\n",
    "$$\\lvert \\psi(\\boldsymbol{\\beta}, \\boldsymbol{\\gamma}) \\rangle = \\underbrace{U(\\boldsymbol{\\beta}) U(\\boldsymbol{\\gamma}) \n",
    "                                            \\cdots U(\\boldsymbol{\\beta}) U(\\boldsymbol{\\gamma})}_{p \\; \\text{times}} \n",
    "\\lvert \\psi_0 \\rangle$$\n",
    "\n",
    "where $|\\psi_{0}\\rangle$ is a suitable initial state.\n",
    "\n",
    "<center><img src=\"resources/qaoa_circuit.png\" width=\"600\"></center>\n",
    "\n",
    "The QAOA implementation of Qiskit directly extends VQE and inherits VQE’s general hybrid optimization structure.\n",
    "To learn more about QAOA, please refer to the [**QAOA chapter**](https://qiskit.org/textbook/ch-applications/qaoa.html) of Qiskit Textbook."
   ],
   "metadata": {}
  },
  {
   "cell_type": "markdown",
   "source": [
    "<div class=\"alert alert-block alert-success\">\n",
    "\n",
    "**Goal**\n",
    "\n",
    "Implement the quantum optimization code for the battery revenue problem. <br>\n",
    "<br>\n",
    "**Plan**\n",
    "\n",
    "First, you will learn about QAOA and knapsack problem.\n",
    "<br><br>\n",
    "**Challenge 4a** - Simple knapsack problem with QAOA: familiarize yourself with a typical knapsack problem and  find the optimized solution with QAOA.\n",
    "<br><br>\n",
    "**Final Challenge 4b** - Battery revenue optimization with Qiskit knapsack class: learn the battery revenue optimization problem and find the optimized solution with QAOA. You can receive a badge for solving all the challenge exercises up to 4b.\n",
    "<br><br>\n",
    "**Final Challenge 4c** - Battery revenue optimization with your own quantum circuit: implement the battery revenue optimization problem to find the lowest circuit cost and circuit depth. Achieve better accuracy with smaller circuits. you can obtain a score with ranking by solving this exercise.\n",
    "</div>\n",
    "\n",
    "<div class=\"alert alert-block alert-info\">\n",
    "\n",
    "Before you begin, we recommend watching the [**Qiskit Optimization Demo Session with Atsushi Matsuo**](https://youtu.be/claoY57eVIc?t=104) and check out the corresponding [**demo notebook**](https://github.com/qiskit-community/qiskit-application-modules-demo-sessions/tree/main/qiskit-optimization) to learn how to do classifications using QSVM.\n",
    "\n",
    "</div>"
   ],
   "metadata": {}
  },
  {
   "cell_type": "markdown",
   "source": [
    "As we just mentioned, QAOA is an algorithm which can be used to find approximate solutions to combinatorial optimization problems, which includes many specific problems, such as:\n",
    "\n",
    "- TSP (Traveling Salesman Problem) problem\n",
    "- Vehicle routing problem\n",
    "- Set cover problem\n",
    "- Knapsack problem\n",
    "- Scheduling problems,etc. \n",
    "\n",
    "Some of them are hard to solve (or in another word, they are NP-hard problems), and it is impractical to find their exact solutions in a reasonable amount of time, and that is why we need the approximate algorithm. Next, we will introduce an instance of using QAOA to solve one of the combinatorial optimization problems----**knapsack problem**."
   ],
   "metadata": {}
  },
  {
   "cell_type": "markdown",
   "source": [
    "# Knapsack Problem #\n",
    "\n",
    "[**Knapsack Problem**](https://en.wikipedia.org/wiki/Knapsack_problem) is an optimization problem that goes like this: given a list of items that each has a weight and a value and a knapsack that can hold a maximum weight. Determine which items to take in the knapsack so as to maximize the total value taken without exceeding the maiximum weight the knapsack can hold. The most efficient approach would be a greedy approach, but that is not guaranteed to give the best result.\n",
    "\n",
    "\n",
    "<center><img src=\"resources/Knapsack.png\" width=\"400\"></center>\n",
    "    \n",
    "Image source: [Knapsack.svg.](https://commons.wikimedia.org/w/index.php?title=File:Knapsack.svg&oldid=457280382)\n",
    "\n",
    "<div id='problem'></div>\n",
    "<div class=\"alert alert-block alert-info\">\n",
    "Note: Knapsack problem have many variations, here we will only discuss the 0-1 Knapsack problem: either take an item or not (0-1 property), which is a NP-hard problem. We can not divide one item, or take multiple same items.    \n",
    "</div>"
   ],
   "metadata": {}
  },
  {
   "cell_type": "markdown",
   "source": [
    "## Challenge 4a: Simple knapsack problem with QAOA \n",
    "\n",
    "<div class=\"alert alert-block alert-success\">\n",
    "    \n",
    "**Challenge 4a** <br>\n",
    "You are given a knapsack with a capacity of 18 and 5 pieces of luggage. When the weights of each piece of luggage $W$ is $w_i = [4,5,6,7,8]$ and the value $V$ is $v_i = [5,6,7,8,9]$, find the packing method that maximizes the sum of the values of the luggage within the capacity limit of 18.\n",
    "\n",
    "\n",
    "</div>"
   ],
   "metadata": {}
  },
  {
   "cell_type": "code",
   "execution_count": 1,
   "source": [
    "from qiskit_optimization.algorithms import MinimumEigenOptimizer\n",
    "from qiskit import Aer\n",
    "from qiskit.utils import algorithm_globals, QuantumInstance\n",
    "from qiskit.algorithms import QAOA, NumPyMinimumEigensolver\n",
    "import numpy as np"
   ],
   "outputs": [],
   "metadata": {}
  },
  {
   "cell_type": "markdown",
   "source": [
    "## Dynamic Programming Approach ##\n",
    "\n",
    "A typical classical method for finding an exact solution, the Dynamic Programming approach is as follows:"
   ],
   "metadata": {}
  },
  {
   "cell_type": "code",
   "execution_count": 28,
   "source": [
    "val = [5,6,7,8,9]\n",
    "wt = [8,6,6,7,8]\n",
    "W = 18"
   ],
   "outputs": [],
   "metadata": {}
  },
  {
   "cell_type": "code",
   "execution_count": 29,
   "source": [
    "def dp(W, wt, val, n):\n",
    "    k = [[0 for x in range(W + 1)] for x in range(n + 1)]\n",
    "    for i in range(n + 1):\n",
    "        for w in range(W + 1):\n",
    "            if i == 0 or w == 0:\n",
    "                k[i][w] = 0\n",
    "            elif wt[i-1] <= w:\n",
    "                k[i][w] = max(val[i-1] + k[i-1][w-wt[i-1]], k[i-1][w])\n",
    "            else:\n",
    "                k[i][w] = k[i-1][w]\n",
    "                \n",
    "    picks=[0 for x in range(n)]\n",
    "    volume=W\n",
    "    for i in range(n,-1,-1):\n",
    "        if (k[i][volume]>k[i-1][volume]):\n",
    "            picks[i-1]=1\n",
    "            volume -= wt[i-1]\n",
    "    return k[n][W],picks\n",
    "\n",
    "n = len(val)\n",
    "print(\"optimal value:\", dp(W, wt, val, n)[0])\n",
    "print('\\n index of the chosen items:')\n",
    "for i in range(n): \n",
    "    if dp(W, wt, val, n)[1][i]: \n",
    "        print(i,end=' ')"
   ],
   "outputs": [
    {
     "output_type": "stream",
     "name": "stdout",
     "text": [
      "optimal value: 17\n",
      "\n",
      " index of the chosen items:\n",
      "3 4 "
     ]
    }
   ],
   "metadata": {}
  },
  {
   "cell_type": "markdown",
   "source": [
    "The time complexity of this method $O(N*W)$, where $N$ is the number of items and $W$ is the maximum weight of the knapsack. We can solve this problem using an exact solution approach within a reasonable time since the number of combinations is limited, but when the number of items becomes huge, it will be impractical to deal with by using a exact solution approach. "
   ],
   "metadata": {}
  },
  {
   "cell_type": "markdown",
   "source": [
    "## QAOA approach ##\n",
    "\n",
    "Qiskit provides application classes for various optimization problems, including the knapsack problem so that users can easily try various optimization problems on quantum computers. In this exercise, we are going to use the application classes for the `Knapsack` problem here. \n",
    "\n",
    "There are application classes for other optimization problems available as well. See [**Application Classes for Optimization Problems**](https://qiskit.org/documentation/optimization/tutorials/09_application_classes.html#Knapsack-problem) for details."
   ],
   "metadata": {}
  },
  {
   "cell_type": "code",
   "execution_count": 4,
   "source": [
    "# import packages necessary for application classes.\n",
    "from qiskit_optimization.applications import Knapsack"
   ],
   "outputs": [],
   "metadata": {}
  },
  {
   "cell_type": "markdown",
   "source": [
    "To represent Knapsack problem as an optimization problem that can be solved by QAOA, we need to formulate the cost function for this problem."
   ],
   "metadata": {}
  },
  {
   "cell_type": "code",
   "execution_count": 30,
   "source": [
    "def knapsack_quadratic_program():\n",
    "    # Put values, weights and max_weight parameter for the Knapsack()\n",
    "    \n",
    "    ##############################\n",
    "    # Provide your code here\n",
    "    \n",
    "    prob = Knapsack(val, wt, W)\n",
    "    \n",
    "    #\n",
    "    ##############################\n",
    "    \n",
    "    # to_quadratic_program generates a corresponding QuadraticProgram of the instance of the knapsack problem.\n",
    "    kqp = prob.to_quadratic_program()\n",
    "    return prob, kqp\n",
    "\n",
    "prob,quadratic_program=knapsack_quadratic_program()\n",
    "quadratic_program"
   ],
   "outputs": [
    {
     "output_type": "execute_result",
     "data": {
      "text/plain": [
       "\\ This file has been generated by DOcplex\n",
       "\\ ENCODING=ISO-8859-1\n",
       "\\Problem name: Knapsack\n",
       "\n",
       "Maximize\n",
       " obj: 5 x_0 + 6 x_1 + 7 x_2 + 8 x_3 + 9 x_4\n",
       "Subject To\n",
       " c0: 8 x_0 + 6 x_1 + 6 x_2 + 7 x_3 + 8 x_4 <= 18\n",
       "\n",
       "Bounds\n",
       " 0 <= x_0 <= 1\n",
       " 0 <= x_1 <= 1\n",
       " 0 <= x_2 <= 1\n",
       " 0 <= x_3 <= 1\n",
       " 0 <= x_4 <= 1\n",
       "\n",
       "Binaries\n",
       " x_0 x_1 x_2 x_3 x_4\n",
       "End"
      ]
     },
     "metadata": {},
     "execution_count": 30
    }
   ],
   "metadata": {}
  },
  {
   "cell_type": "markdown",
   "source": [
    "We can solve the problem using the classical `NumPyMinimumEigensolver` to find the minimum eigenvector, which may be useful as a reference without doing things by Dynamic Programming; we can also apply QAOA."
   ],
   "metadata": {}
  },
  {
   "cell_type": "code",
   "execution_count": 31,
   "source": [
    "# Numpy Eigensolver\n",
    "meo = MinimumEigenOptimizer(min_eigen_solver=NumPyMinimumEigensolver())\n",
    "result = meo.solve(quadratic_program)\n",
    "print('result:\\n', result)\n",
    "print('\\n index of the chosen items:', prob.interpret(result)) "
   ],
   "outputs": [
    {
     "output_type": "stream",
     "name": "stdout",
     "text": [
      "result:\n",
      " optimal function value: 17.0\n",
      "optimal value: [0. 0. 0. 1. 1.]\n",
      "status: SUCCESS\n",
      "\n",
      " index of the chosen items: [3, 4]\n"
     ]
    }
   ],
   "metadata": {}
  },
  {
   "cell_type": "code",
   "execution_count": 32,
   "source": [
    "# QAOA\n",
    "seed = 123\n",
    "algorithm_globals.random_seed = seed\n",
    "qins = QuantumInstance(backend=Aer.get_backend('qasm_simulator'), shots=1000, seed_simulator=seed, seed_transpiler=seed)\n",
    "\n",
    "meo = MinimumEigenOptimizer(min_eigen_solver=QAOA(reps=1, quantum_instance=qins))\n",
    "result = meo.solve(quadratic_program)\n",
    "print('result:\\n', result)\n",
    "print('\\n index of the chosen items:', prob.interpret(result)) "
   ],
   "outputs": [
    {
     "output_type": "stream",
     "name": "stdout",
     "text": [
      "result:\n",
      " optimal function value: 17.0\n",
      "optimal value: [0. 0. 0. 1. 1.]\n",
      "status: SUCCESS\n",
      "\n",
      " index of the chosen items: [3, 4]\n"
     ]
    }
   ],
   "metadata": {}
  },
  {
   "cell_type": "markdown",
   "source": [
    "You will submit the quadratic program created by your `knapsack_quadratic_program` function."
   ],
   "metadata": {}
  },
  {
   "cell_type": "code",
   "execution_count": 8,
   "source": [
    "# Check your answer and submit using the following code\n",
    "from qc_grader import grade_ex4a\n",
    "grade_ex4a(quadratic_program)"
   ],
   "outputs": [
    {
     "output_type": "stream",
     "name": "stdout",
     "text": [
      "Submitting your answer for 4a. Please wait...\n",
      "Congratulations 🎉! Your answer is correct and has been submitted.\n"
     ]
    }
   ],
   "metadata": {}
  },
  {
   "cell_type": "markdown",
   "source": [
    "<div id='problem'></div>\n",
    "<div class=\"alert alert-block alert-info\">\n",
    "Note: QAOA finds the approximate solutions, so the solution by QAOA is not always optimal. \n",
    "</div>"
   ],
   "metadata": {}
  },
  {
   "cell_type": "markdown",
   "source": [
    "# Battery Revenue Optimization Problem #\n",
    "\n",
    "<div id='problem'></div>\n",
    "<div class=\"alert alert-block alert-success\">\n",
    "In this exercise we will use a quantum algorithm to solve a real-world instance of a combinatorial optimization problem: Battery revenue optimization problem.   \n",
    "</div>"
   ],
   "metadata": {}
  },
  {
   "cell_type": "markdown",
   "source": [
    "Battery storage systems have provided a solution to flexibly integrate large-scale renewable energy (such as wind and solar) in a power system. The revenues from batteries come from different types of services sold to the grid. The process of energy trading of battery storage assets is as follows: A regulator asks each battery supplier to choose a market in advance for each time window. Then, the batteries operator will charge the battery with renewable energy and release the energy to the grid depending on pre-agreed contracts. The supplier makes therefore forecasts on the return and the number of charge/discharge cycles for each time window to optimize its overall return. \n",
    "\n",
    "How to maximize the revenue of battery-based energy storage is a concern of all battery storage investors. Choose to let the battery always supply power to the market which pays the most for every time window might be a simple guess, but in reality, we have to consider many other factors. \n",
    "\n",
    "What we can not ignore is the aging of batteries, also known as **degradation**. As the battery charge/discharge cycle progresses, the battery capacity will gradually degrade (the amount of energy a battery can store, or the amount of power it can deliver will permanently reduce). After a number of cycles, the battery will reach the end of its usefulness. Since the performance of a battery decreases while it is used, choosing the best cash return for every time window one after the other, without considering the degradation, does not lead to an optimal return over the lifetime of the battery, i.e. before the number of charge/discharge cycles reached.\n",
    "\n",
    "Therefore, in order to optimize the revenue of the battery, what we have to do is to select the market for the battery in each time window taking both **the returns on these markets (value)**, based on price forecast, as well as expected battery **degradation over time (cost)** into account ——It sounds like solving a common optimization problem, right?\n",
    "\n",
    "We will investigate how quantum optimization algorithms could be adapted to tackle this problem.\n",
    "\n",
    "\n",
    "<div>\n",
    "<p></p>\n",
    "<center><img src=\"resources/renewable-g7ac5bd48e_640.jpg\" width=\"600\"></center>\n",
    "\n",
    "</div>\n",
    "\n",
    "Image source: [pixabay](https://pixabay.com/photos/renewable-energy-environment-wind-1989416/)"
   ],
   "metadata": {}
  },
  {
   "cell_type": "markdown",
   "source": [
    "## Problem Setting\n",
    "\n",
    "Here, we have referred to the problem setting in de la Grand'rive and Hullo's paper [**[2]**](https://arxiv.org/abs/1908.02210).\n",
    "\n",
    "Considering two markets $M_{1}$ , $M_{2}$, during every time window (typically a day), the battery operates on one or the other market, for a maximum of $n$ time windows. Every day is considered independent and the intraday optimization is a standalone problem: every morning the battery starts with the same level of power so that we don’t consider charging problems. Forecasts on both markets being available for the $n$ time windows, we assume known for each time window $t$ (day) and for each market:\n",
    "\n",
    "- the daily returns $\\lambda_{1}^{t}$ , $\\lambda_{2}^{t}$\n",
    "\n",
    "- the daily degradation, or health cost (number of cycles), for the battery $c_{1}^{t}$, $c_{2}^{t}$ \n",
    "\n",
    "We want to find the optimal schedule, i.e. optimize the life time return with a cost less than $C_{max}$ cycles. We introduce $d = max_{t}\\left\\{c_{1}^{t}, c_{2}^{t}\\right\\} $.\n",
    "\n",
    "We introduce the decision variable $z_{t}, \\forall t \\in [1, n]$ such that $z_{t} = 0$ if the supplier chooses $M_{1}$ , $z_{t} = 1$ if choose $M_{2}$, with every possible vector $z = [z_{1}, ..., z_{n}]$ being a possible schedule. The previously formulated problem can then be expressed as:\n",
    "\n",
    "\n",
    "\\begin{equation}\n",
    "\\underset{z \\in \\left\\{0,1\\right\\}^{n}}{max} \\displaystyle\\sum_{t=1}^{n}(1-z_{t})\\lambda_{1}^{t}+z_{t}\\lambda_{2}^{t}\n",
    "\\end{equation}\n",
    "<br>\n",
    "\\begin{equation}\n",
    "    s.t. \\sum_{t=1}^{n}[(1-z_{t})c_{1}^{t}+z_{t}c_{2}^{t}]\\leq C_{max}\n",
    "\\end{equation}"
   ],
   "metadata": {}
  },
  {
   "cell_type": "markdown",
   "source": [
    "This does not look like one of the well-known combinatorial optimization problems, but no worries! we are going to give hints on how to solve this problem with quantum computing step by step."
   ],
   "metadata": {}
  },
  {
   "cell_type": "markdown",
   "source": [
    "# Challenge 4b: Battery revenue optimization with Qiskit knapsack class #\n",
    "\n",
    "<div class=\"alert alert-block alert-success\">\n",
    "\n",
    "**Challenge 4b** <br>\n",
    "We will optimize the battery schedule using Qiskit optimization knapsack class with QAOA to maximize the total return with a cost within $C_{max}$ under the following conditions;\n",
    "    <br>\n",
    "- the time window $t = 7$<br>\n",
    "- the daily return $\\lambda_{1} = [5, 3, 3, 6, 9, 7, 1]$<br>\n",
    "- the daily return $\\lambda_{2} = [8, 4, 5, 12, 10, 11, 2]$<br>\n",
    "- the daily degradation for the battery $c_{1} = [1, 1, 2, 1, 1, 1, 2]$<br>\n",
    "- the daily degradation for the battery $c_{2} = [3, 2, 3, 2, 4, 3, 3]$<br>\n",
    "- $C_{max} = 16$<br>\n",
    "<br>\n",
    "    \n",
    "Your task is to find the argument, `values`, `weights`, and `max_weight` used for the Qiskit optimization knapsack class, to get a solution which \"0\" denote the choice of market $M_{1}$, and \"1\" denote the choice of market $M_{2}$. We will check your answer with another data set of $\\lambda_{1}, \\lambda_{2}, c_{1}, c_{2}, C_{max}$.\n",
    "    <br>\n",
    "You can receive a badge for solving all the challenge exercises up to 4b.\n",
    "\n",
    "</div>"
   ],
   "metadata": {
    "tags": []
   }
  },
  {
   "cell_type": "code",
   "execution_count": 57,
   "source": [
    "L1 = [5,3,3,6,9,7,1]\n",
    "L2 = [8,4,5,12,10,11,2]\n",
    "C1 = [1,1,2,1,1,1,2]\n",
    "C2 = [3,2,3,2,4,3,3]\n",
    "C_max = 16"
   ],
   "outputs": [],
   "metadata": {}
  },
  {
   "cell_type": "code",
   "execution_count": 55,
   "source": [
    "def knapsack_argument(L1, L2, C1, C2, C_max):\n",
    "    values = []\n",
    "    weights = []\n",
    "    max_weight = C_max\n",
    "    t = 7\n",
    "    ##############################\n",
    "    # Provide your code here\n",
    "    for day in range(t):\n",
    "        if L1[day] >= L2[day] and C1[day] <= C2[day]:\n",
    "            values.append(L1[day])\n",
    "            weights.append(C1[day])\n",
    "        elif L2[day] >= L1[day] and C2[day] <= C1[day]:\n",
    "            values.append(L2[day])\n",
    "            weights.append(C2[day])\n",
    "        elif L2[day] >= L1[day] and C2[day] >= C1[day]:\n",
    "            values.append(L2[day]-L1[day])\n",
    "            weights.append(C2[day]-C1[day])\n",
    "        elif L2[day] <= L1[day] and C2[day] <= C1[day]:\n",
    "            values.append(L1[day]-L2[day])\n",
    "            weights.append(C1[day]-C2[day]) \n",
    "    #\n",
    "    ##############################\n",
    "    return values, weights, max_weight\n",
    "    \n",
    "values, weights, max_weight = knapsack_argument(L1, L2, C1, C2, C_max)\n",
    "print(values, weights, max_weight)\n",
    "prob = Knapsack(values = values, weights = weights, max_weight = max_weight)\n",
    "qp = prob.to_quadratic_program()\n",
    "\n",
    "seed = 123\n",
    "algorithm_globals.random_seed = seed\n",
    "qins = QuantumInstance(backend=Aer.get_backend('qasm_simulator'), shots=1000, seed_simulator=seed, seed_transpiler=seed)\n",
    "\n",
    "meo = MinimumEigenOptimizer(min_eigen_solver=QAOA(reps=1, quantum_instance=qins))\n",
    "result = meo.solve(qp)\n",
    "print('result:\\n', result)\n",
    "print('\\n index of the chosen items:', prob.interpret(result)) "
   ],
   "outputs": [
    {
     "output_type": "stream",
     "name": "stdout",
     "text": [
      "[10, 1, 2, 6, 1, 4, 1] [1, 1, 1, 1, 3, 2, 1] 10\n",
      "result:\n",
      " optimal function value: 25.0\n",
      "optimal value: [1. 1. 1. 1. 1. 1. 1.]\n",
      "status: SUCCESS\n",
      "\n",
      " index of the chosen items: [0, 1, 2, 3, 4, 5, 6]\n"
     ]
    }
   ],
   "metadata": {}
  },
  {
   "cell_type": "code",
   "execution_count": 58,
   "source": [
    "# Check your answer and submit using the following code\n",
    "from qc_grader import grade_ex4b\n",
    "grade_ex4b(knapsack_argument)"
   ],
   "outputs": [
    {
     "output_type": "stream",
     "name": "stdout",
     "text": [
      "Running \"knapsack_argument\" (1/3)... \n",
      "Running \"knapsack_argument\" (2/3)... \n",
      "Running \"knapsack_argument\" (3/3)... \n",
      "Submitting your answer for 4b. Please wait...\n",
      "Congratulations 🎉! Your answer is correct and has been submitted.\n"
     ]
    }
   ],
   "metadata": {}
  },
  {
   "cell_type": "markdown",
   "source": [
    "We can solve the problem using QAOA."
   ],
   "metadata": {}
  },
  {
   "cell_type": "code",
   "execution_count": 59,
   "source": [
    "# QAOA\n",
    "seed = 123\n",
    "algorithm_globals.random_seed = seed\n",
    "qins = QuantumInstance(backend=Aer.get_backend('qasm_simulator'), shots=1000, seed_simulator=seed, seed_transpiler=seed)\n",
    "\n",
    "meo = MinimumEigenOptimizer(min_eigen_solver=QAOA(reps=1, quantum_instance=qins))\n",
    "result = meo.solve(qp)\n",
    "print('result:', result.x)\n",
    "\n",
    "item = np.array(result.x)\n",
    "revenue=0\n",
    "for i in range(len(item)):\n",
    "    if item[i]==0:\n",
    "        revenue+=L1[i]\n",
    "    else:\n",
    "        revenue+=L2[i]\n",
    "\n",
    "print('total revenue:', revenue)"
   ],
   "outputs": [
    {
     "output_type": "stream",
     "name": "stdout",
     "text": [
      "result: [1. 1. 1. 1. 1. 1. 1.]\n",
      "total revenue: 52\n"
     ]
    }
   ],
   "metadata": {}
  },
  {
   "cell_type": "markdown",
   "source": [
    "### References\n",
    "1. Edward Farhi and Jeffrey Goldstone and Sam Gutmann (2014). A Quantum Approximate Optimization Algorithm. (https://arxiv.org/abs/1411.4028)\n",
    "2. Grand'rive, Pierre & Hullo, Jean-Francois (2019). Knapsack Problem variants of QAOA for battery revenue optimisation.  (https://arxiv.org/abs/1908.02210)\n",
    "3. V. Vedral, A. Barenco, A. Ekert (1995). Quantum Networks for Elementary Arithmetic Operations. (https://arxiv.org/abs/quant-ph/9511018)\n",
    "4. Steven A. Cuccaro, Thomas G. Draper, Samuel A. Kutin, David Petrie Moulton (2004). A new quantum ripple-carry addition circuit. (https://arxiv.org/abs/quant-ph/0410184)\n",
    "5. Thomas G. Draper (2000). Addition on a Quantum Computer (https://arxiv.org/abs/quant-ph/0008033)\n",
    "6. Lidia Ruiz-Perez, Juan Carlos Garcia-Escartin (2014). Quantum arithmetic with the Quantum Fourier Transform. (https://arxiv.org/abs/1411.5949)"
   ],
   "metadata": {}
  },
  {
   "cell_type": "markdown",
   "source": [
    "## Additional information\n",
    "\n",
    "**Created by:** Bo Yang, Hyungseok Chang, Sitong Liu, Kifumi Numata\n",
    "\n",
    "**Version:** 1.0.1"
   ],
   "metadata": {}
  }
 ],
 "metadata": {
  "kernelspec": {
   "display_name": "Qiskit v0.31.0 (ipykernel)",
   "language": "python",
   "name": "python3"
  },
  "language_info": {
   "codemirror_mode": {
    "name": "ipython",
    "version": 3
   },
   "file_extension": ".py",
   "mimetype": "text/x-python",
   "name": "python",
   "nbconvert_exporter": "python",
   "pygments_lexer": "ipython3",
   "version": "3.8.10"
  },
  "widgets": {
   "application/vnd.jupyter.widget-state+json": {
    "state": {},
    "version_major": 2,
    "version_minor": 0
   }
  }
 },
 "nbformat": 4,
 "nbformat_minor": 5
}